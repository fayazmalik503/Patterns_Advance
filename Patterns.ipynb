{
 "cells": [
  {
   "cell_type": "markdown",
   "source": [
    "## Patterns using python\n",
    "### 1. You will always start printing from left\n",
    "### 2. We print row by row\n",
    "\n",
    "#### if their is no star * in between two stars it does not mean we jump but we are printing spaces."
   ],
   "metadata": {
    "collapsed": false,
    "pycharm": {
     "name": "#%% md\n"
    }
   }
  },
  {
   "cell_type": "markdown",
   "source": [
    "![](../../Desktop/Patterns.png)"
   ],
   "metadata": {
    "collapsed": false,
    "pycharm": {
     "name": "#%% md\n"
    }
   }
  },
  {
   "cell_type": "markdown",
   "source": [
    "# Create triangles of different patters."
   ],
   "metadata": {
    "collapsed": false
   }
  },
  {
   "cell_type": "code",
   "execution_count": 46,
   "outputs": [
    {
     "name": "stdout",
     "output_type": "stream",
     "text": [
      "*       *       *       *       \n",
      "\n",
      "*       *       *       *       \n",
      "\n",
      "*       *       *       *       \n",
      "\n",
      "*       *       *       *       \n",
      "\n",
      "*       *       *       *       \n",
      "\n",
      "*       *       *       *       \n",
      "\n",
      "*       *       *       *       \n",
      "\n",
      "*       *       *       *       \n",
      "\n",
      "*       *       *       *       \n",
      "\n",
      "*       *       *       *       \n",
      "\n",
      "*       *       *       *       \n",
      "\n",
      "*       *       *       *       \n",
      "\n",
      "*       *       *       *       \n",
      "\n",
      "*       *       *       *       \n",
      "\n",
      "*       *       *       *       \n",
      "\n",
      "*       *       *       *       \n",
      "\n"
     ]
    }
   ],
   "source": [
    "# Use loops to print them because they provide us iteration.\n",
    "n = 4\n",
    "for i in range(n):\n",
    "    for j in range(n):\n",
    "        print(\"*   \", end=\"    \")\n",
    "    print('\\n')"
   ],
   "metadata": {
    "collapsed": false,
    "pycharm": {
     "name": "#%%\n"
    }
   }
  },
  {
   "cell_type": "code",
   "execution_count": 47,
   "outputs": [
    {
     "name": "stdout",
     "output_type": "stream",
     "text": [
      "*  \n",
      "\n",
      "*  *  \n",
      "\n",
      "*  *  *  \n",
      "\n",
      "*  *  *  *  \n",
      "\n",
      "*  \n",
      "\n",
      "*  *  \n",
      "\n",
      "*  *  *  \n",
      "\n",
      "*  *  *  *  \n",
      "\n",
      "*  \n",
      "\n",
      "*  *  \n",
      "\n",
      "*  *  *  \n",
      "\n",
      "*  *  *  *  \n",
      "\n",
      "*  \n",
      "\n",
      "*  *  \n",
      "\n",
      "*  *  *  \n",
      "\n",
      "*  *  *  *  \n",
      "\n"
     ]
    }
   ],
   "source": [
    "n = 4\n",
    "for i in range(n):\n",
    "    for j in range(i+1):\n",
    "        print(\"* \", end=\" \")\n",
    "    print(\"\\n\")"
   ],
   "metadata": {
    "collapsed": false,
    "pycharm": {
     "name": "#%%\n"
    }
   }
  },
  {
   "cell_type": "code",
   "execution_count": 48,
   "outputs": [
    {
     "name": "stdout",
     "output_type": "stream",
     "text": [
      "O    \n",
      "\n",
      "O    O    \n",
      "\n",
      "O    O    O    \n",
      "\n",
      "O    O    O    O    \n",
      "\n",
      "O    \n",
      "\n",
      "O    O    \n",
      "\n",
      "O    O    O    \n",
      "\n",
      "O    O    O    O    \n",
      "\n",
      "O    \n",
      "\n",
      "O    O    \n",
      "\n",
      "O    O    O    \n",
      "\n",
      "O    O    O    O    \n",
      "\n",
      "O    \n",
      "\n",
      "O    O    \n",
      "\n",
      "O    O    O    \n",
      "\n",
      "O    O    O    O    \n",
      "\n"
     ]
    }
   ],
   "source": [
    "n = 4\n",
    "for i in range(n):\n",
    "    for j in range(i+1): # inner loop will run one time in first row, two times in second row and likewise, .......\n",
    "        # So the value i which will be 0+1 = 1 which is smaller j that is 0 so it will see\n",
    "        # 0 < 1 condition will be true\n",
    "        # so this will print *\n",
    "        print(\"O   \", end=\" \")\n",
    "    print(\"\\n\")"
   ],
   "metadata": {
    "collapsed": false,
    "pycharm": {
     "name": "#%%\n"
    }
   }
  },
  {
   "cell_type": "code",
   "execution_count": 49,
   "outputs": [
    {
     "name": "stdout",
     "output_type": "stream",
     "text": [
      "#    #    #    #    #    \n",
      "\n",
      "#    #    #    #    \n",
      "\n",
      "#    #    #    \n",
      "\n",
      "#    #    \n",
      "\n",
      "#    \n",
      "\n",
      "#    #    #    #    #    \n",
      "\n",
      "#    #    #    #    \n",
      "\n",
      "#    #    #    \n",
      "\n",
      "#    #    \n",
      "\n",
      "#    \n",
      "\n",
      "#    #    #    #    #    \n",
      "\n",
      "#    #    #    #    \n",
      "\n",
      "#    #    #    \n",
      "\n",
      "#    #    \n",
      "\n",
      "#    \n",
      "\n",
      "#    #    #    #    #    \n",
      "\n",
      "#    #    #    #    \n",
      "\n",
      "#    #    #    \n",
      "\n",
      "#    #    \n",
      "\n",
      "#    \n",
      "\n"
     ]
    }
   ],
   "source": [
    "n = 5\n",
    "for i in range(n):\n",
    "    for j in range(i, n): # when j = 0, it will check 0<5 is TRUE it will print five time becasue 0,1,2,3,4\n",
    "        print(\"#   \", end=\" \") # This will help it for iteration not go in second line, and it will print * on same line.\n",
    "        # once line break it will go to main loop where i will be now 1 which 0,\n",
    "        # I will be 1 which means 1<5, this time it will print on 1,2,3,4 only four starts\n",
    "    print('\\n') # This will help it to break the line"
   ],
   "metadata": {
    "collapsed": false,
    "pycharm": {
     "name": "#%%\n"
    }
   }
  },
  {
   "cell_type": "code",
   "execution_count": 50,
   "outputs": [
    {
     "name": "stdout",
     "output_type": "stream",
     "text": [
      "*    *    *    *    *    \n",
      "\n",
      "*    *    *    *    \n",
      "\n",
      "*    *    *    \n",
      "\n",
      "*    *    \n",
      "\n",
      "*    \n",
      "\n",
      "*    *    *    *    *    \n",
      "\n",
      "*    *    *    *    \n",
      "\n",
      "*    *    *    \n",
      "\n",
      "*    *    \n",
      "\n",
      "*    \n",
      "\n",
      "*    *    *    *    *    \n",
      "\n",
      "*    *    *    *    \n",
      "\n",
      "*    *    *    \n",
      "\n",
      "*    *    \n",
      "\n",
      "*    \n",
      "\n",
      "*    *    *    *    *    \n",
      "\n",
      "*    *    *    *    \n",
      "\n",
      "*    *    *    \n",
      "\n",
      "*    *    \n",
      "\n",
      "*    \n",
      "\n"
     ]
    }
   ],
   "source": [
    "n = 5\n",
    "for i in range(5):\n",
    "    for j in range(n-i):  # 0 < (5-0)  = 5 < 4 => * * * * *\n",
    "                          # 0 < (5-1)  = 4 < 4 => * * * *\n",
    "                          # 0 < (5-2)  = 3 < 4 => * * *\n",
    "                          # 0 < (5-3)  = 2 < 4 => * *\n",
    "                          # 0 < (5-4)  = 1 < 4 => *\n",
    "        print(\"*   \", end=\" \")\n",
    "    print(\"\\n\")"
   ],
   "metadata": {
    "collapsed": false,
    "pycharm": {
     "name": "#%%\n"
    }
   }
  },
  {
   "cell_type": "code",
   "execution_count": 51,
   "outputs": [
    {
     "name": "stdout",
     "output_type": "stream",
     "text": [
      "$    $    $    $    $    \n",
      "\n",
      "$    $    $    $    \n",
      "\n",
      "$    $    $    \n",
      "\n",
      "$    $    \n",
      "\n",
      "$    \n",
      "\n",
      "$    $    $    $    $    \n",
      "\n",
      "$    $    $    $    \n",
      "\n",
      "$    $    $    \n",
      "\n",
      "$    $    \n",
      "\n",
      "$    \n",
      "\n",
      "$    $    $    $    $    \n",
      "\n",
      "$    $    $    $    \n",
      "\n",
      "$    $    $    \n",
      "\n",
      "$    $    \n",
      "\n",
      "$    \n",
      "\n",
      "$    $    $    $    $    \n",
      "\n",
      "$    $    $    $    \n",
      "\n",
      "$    $    $    \n",
      "\n",
      "$    $    \n",
      "\n",
      "$    \n",
      "\n"
     ]
    }
   ],
   "source": [
    "n = 5\n",
    "for i in range(5):\n",
    "    for j in range(n-i):\n",
    "        print(\"$   \", end=\" \")\n",
    "    print(\"\\n\")"
   ],
   "metadata": {
    "collapsed": false,
    "pycharm": {
     "name": "#%%\n"
    }
   }
  },
  {
   "cell_type": "code",
   "execution_count": 52,
   "outputs": [
    {
     "name": "stdout",
     "output_type": "stream",
     "text": [
      "                    *   \n",
      "\n",
      "                *   *   \n",
      "\n",
      "            *   *   *   \n",
      "\n",
      "        *   *   *   *   \n",
      "\n",
      "    *   *   *   *   *   \n",
      "\n",
      "                    *   \n",
      "\n",
      "                *   *   \n",
      "\n",
      "            *   *   *   \n",
      "\n",
      "        *   *   *   *   \n",
      "\n",
      "    *   *   *   *   *   \n",
      "\n",
      "                    *   \n",
      "\n",
      "                *   *   \n",
      "\n",
      "            *   *   *   \n",
      "\n",
      "        *   *   *   *   \n",
      "\n",
      "    *   *   *   *   *   \n",
      "\n",
      "                    *   \n",
      "\n",
      "                *   *   \n",
      "\n",
      "            *   *   *   \n",
      "\n",
      "        *   *   *   *   \n",
      "\n",
      "    *   *   *   *   *   \n",
      "\n"
     ]
    }
   ],
   "source": [
    "# 1. Decreasing space triangle\n",
    "# 2. Increasing * Triangle\n",
    "n = 5\n",
    "for i in range(n):\n",
    "    for j in range(i, n):\n",
    "        print(\"  \", end=\"  \")\n",
    "    for k in range(i+1):\n",
    "        print(\"* \", end=\"  \")\n",
    "\n",
    "    print(\"\\n\")"
   ],
   "metadata": {
    "collapsed": false,
    "pycharm": {
     "name": "#%%\n"
    }
   }
  },
  {
   "cell_type": "code",
   "execution_count": 53,
   "outputs": [
    {
     "name": "stdout",
     "output_type": "stream",
     "text": [
      "                    *   *   \n",
      "\n",
      "                *   *   *   *   \n",
      "\n",
      "            *   *   *   *   *   *   \n",
      "\n",
      "        *   *   *   *   *   *   *   *   \n",
      "\n",
      "    *   *   *   *   *   *   *   *   *   *   \n",
      "\n",
      "                    *   *   \n",
      "\n",
      "                *   *   *   *   \n",
      "\n",
      "            *   *   *   *   *   *   \n",
      "\n",
      "        *   *   *   *   *   *   *   *   \n",
      "\n",
      "    *   *   *   *   *   *   *   *   *   *   \n",
      "\n",
      "                    *   *   \n",
      "\n",
      "                *   *   *   *   \n",
      "\n",
      "            *   *   *   *   *   *   \n",
      "\n",
      "        *   *   *   *   *   *   *   *   \n",
      "\n",
      "    *   *   *   *   *   *   *   *   *   *   \n",
      "\n",
      "                    *   *   \n",
      "\n",
      "                *   *   *   *   \n",
      "\n",
      "            *   *   *   *   *   *   \n",
      "\n",
      "        *   *   *   *   *   *   *   *   \n",
      "\n",
      "    *   *   *   *   *   *   *   *   *   *   \n",
      "\n"
     ]
    }
   ],
   "source": [
    "# 1. Decreasing space triangle\n",
    "# 2. Increasing * Triangle\n",
    "# 3. For increasing star * triangle\n",
    "\n",
    "n = 5\n",
    "\n",
    "# For no. of rows\n",
    "for i in range(n):\n",
    "    # for printing decreasing spaces\n",
    "    for j in range(i, n):\n",
    "        print(\"  \", end=\"  \")\n",
    "    # For priting increasing stars\n",
    "    for k in range(i+1):\n",
    "        print(\"* \", end=\"  \")\n",
    "    #for printing increasing starts\n",
    "    for l in range(i+1):\n",
    "        print(\"* \", end=\"  \")\n",
    "    print(\"\\n\")"
   ],
   "metadata": {
    "collapsed": false,
    "pycharm": {
     "name": "#%%\n"
    }
   }
  },
  {
   "cell_type": "code",
   "execution_count": 54,
   "outputs": [
    {
     "name": "stdout",
     "output_type": "stream",
     "text": [
      "                    *   \n",
      "\n",
      "                *   *   *   \n",
      "\n",
      "            *   *   *   *   *   \n",
      "\n",
      "        *   *   *   *   *   *   *   \n",
      "\n",
      "    *   *   *   *   *   *   *   *   *   \n",
      "\n",
      "                    *   \n",
      "\n",
      "                *   *   *   \n",
      "\n",
      "            *   *   *   *   *   \n",
      "\n",
      "        *   *   *   *   *   *   *   \n",
      "\n",
      "    *   *   *   *   *   *   *   *   *   \n",
      "\n",
      "                    *   \n",
      "\n",
      "                *   *   *   \n",
      "\n",
      "            *   *   *   *   *   \n",
      "\n",
      "        *   *   *   *   *   *   *   \n",
      "\n",
      "    *   *   *   *   *   *   *   *   *   \n",
      "\n",
      "                    *   \n",
      "\n",
      "                *   *   *   \n",
      "\n",
      "            *   *   *   *   *   \n",
      "\n",
      "        *   *   *   *   *   *   *   \n",
      "\n",
      "    *   *   *   *   *   *   *   *   *   \n",
      "\n"
     ]
    }
   ],
   "source": [
    "# 1. Decreasing space triangle\n",
    "# 2. Increasing * Triangle\n",
    "# 3. For Increasing * triangle\n",
    "\n",
    "n = 5\n",
    "m = 4\n",
    "# For no. of rows\n",
    "for i in range(n):\n",
    "    # for printing decreasing spaces\n",
    "    for j in range(i, n):\n",
    "        print(\"  \", end=\"  \")\n",
    "    # For priting increasing stars\n",
    "    for k in range(i):\n",
    "        print(\"* \", end=\"  \")\n",
    "    #for printing increasing starts\n",
    "    for l in range(i+1):\n",
    "        print(\"* \", end=\"  \")\n",
    "    print(\"\\n\")"
   ],
   "metadata": {
    "collapsed": false,
    "pycharm": {
     "name": "#%%\n"
    }
   }
  },
  {
   "cell_type": "code",
   "execution_count": 55,
   "outputs": [
    {
     "name": "stdout",
     "output_type": "stream",
     "text": [
      "                    0   \n",
      "\n",
      "                1  1   1   \n",
      "\n",
      "            2  2  2   2   2   \n",
      "\n",
      "        3  3  3  3   3   3   3   \n",
      "\n",
      "    4  4  4  4  4   4   4   4   4   \n",
      "\n",
      "                    0   \n",
      "\n",
      "                1  1   1   \n",
      "\n",
      "            2  2  2   2   2   \n",
      "\n",
      "        3  3  3  3   3   3   3   \n",
      "\n",
      "    4  4  4  4  4   4   4   4   4   \n",
      "\n",
      "                    0   \n",
      "\n",
      "                1  1   1   \n",
      "\n",
      "            2  2  2   2   2   \n",
      "\n",
      "        3  3  3  3   3   3   3   \n",
      "\n",
      "    4  4  4  4  4   4   4   4   4   \n",
      "\n",
      "                    0   \n",
      "\n",
      "                1  1   1   \n",
      "\n",
      "            2  2  2   2   2   \n",
      "\n",
      "        3  3  3  3   3   3   3   \n",
      "\n",
      "    4  4  4  4  4   4   4   4   4   \n",
      "\n"
     ]
    }
   ],
   "source": [
    "# 1. Decreasing space triangle\n",
    "# 2. Increasing * Triangle\n",
    "# 3. For Increasing * triangle\n",
    "\n",
    "n = 5\n",
    "m = 4\n",
    "# For no. of rows\n",
    "for i in range(n):\n",
    "    # for printing decreasing spaces\n",
    "    for j in range(i, n):\n",
    "        print(\"  \", end=\"  \")\n",
    "    # For printing increasing stars\n",
    "    for k in range(i):\n",
    "        print(f\"{i}\", end=\"  \")\n",
    "    #for printing increasing starts\n",
    "    for l in range(i+1):\n",
    "        print(f\"{i} \", end=\"  \")\n",
    "    print(\"\\n\")\n"
   ],
   "metadata": {
    "collapsed": false,
    "pycharm": {
     "name": "#%%\n"
    }
   }
  },
  {
   "cell_type": "code",
   "execution_count": 56,
   "outputs": [
    {
     "name": "stdout",
     "output_type": "stream",
     "text": [
      "                0    \n",
      "\n",
      "            1   1    1    \n",
      "\n",
      "        4   4   4    4    4    \n",
      "\n",
      "    9   9   9   9    9    9    9    \n",
      "\n",
      "                0    \n",
      "\n",
      "            1   1    1    \n",
      "\n",
      "        4   4   4    4    4    \n",
      "\n",
      "    9   9   9   9    9    9    9    \n",
      "\n",
      "                0    \n",
      "\n",
      "            1   1    1    \n",
      "\n",
      "        4   4   4    4    4    \n",
      "\n",
      "    9   9   9   9    9    9    9    \n",
      "\n",
      "                0    \n",
      "\n",
      "            1   1    1    \n",
      "\n",
      "        4   4   4    4    4    \n",
      "\n",
      "    9   9   9   9    9    9    9    \n",
      "\n"
     ]
    }
   ],
   "source": [
    "# 1. Decreasing space triangle\n",
    "# 2. Increasing * Triangle\n",
    "# 3. For Increasing * triangle\n",
    "\n",
    "n = 4\n",
    "# For no. of rows\n",
    "for i in range(n):\n",
    "    # for printing decreasing spaces\n",
    "    for j in range(i, n):\n",
    "        print(\"  \", end=\"  \")\n",
    "    # For printing increasing stars\n",
    "    for k in range(i):\n",
    "        print(f\"{i*i}\", end=\"   \")\n",
    "    #for printing increasing starts\n",
    "    for l in range(i+1):\n",
    "        print(f\"{i*i} \", end=\"   \")\n",
    "    print(\"\\n\")\n"
   ],
   "metadata": {
    "collapsed": false,
    "pycharm": {
     "name": "#%%\n"
    }
   }
  },
  {
   "cell_type": "code",
   "execution_count": 57,
   "outputs": [
    {
     "name": "stdout",
     "output_type": "stream",
     "text": [
      "                    0  \n",
      "\n",
      "                0  1  2  \n",
      "\n",
      "            0  1  2  3  4  \n",
      "\n",
      "        0  1  2  3  4  5  6  \n",
      "\n",
      "    0  1  2  3  4  5  6  7  8  \n",
      "\n",
      "                    0  \n",
      "\n",
      "                0  1  2  \n",
      "\n",
      "            0  1  2  3  4  \n",
      "\n",
      "        0  1  2  3  4  5  6  \n",
      "\n",
      "    0  1  2  3  4  5  6  7  8  \n",
      "\n",
      "                    0  \n",
      "\n",
      "                0  1  2  \n",
      "\n",
      "            0  1  2  3  4  \n",
      "\n",
      "        0  1  2  3  4  5  6  \n",
      "\n",
      "    0  1  2  3  4  5  6  7  8  \n",
      "\n",
      "                    0  \n",
      "\n",
      "                0  1  2  \n",
      "\n",
      "            0  1  2  3  4  \n",
      "\n",
      "        0  1  2  3  4  5  6  \n",
      "\n",
      "    0  1  2  3  4  5  6  7  8  \n",
      "\n"
     ]
    }
   ],
   "source": [
    "# 1. Decreasing space triangle\n",
    "# 2. Increasing * Triangle\n",
    "# 3. For Increasing * triangle\n",
    "\n",
    "n = 5\n",
    "m = 4\n",
    "# For no. of rows\n",
    "for i in range(n):\n",
    "    # for printing decreasing spaces\n",
    "    for j in range(i, n):\n",
    "        print(\"  \", end=\"  \")\n",
    "    # For priting increasing stars\n",
    "    for k in range(i):\n",
    "        print( k , end=\"  \")\n",
    "    #for printing increasing starts\n",
    "    for l in range(i+1):\n",
    "        print( l+i , end=\"  \")\n",
    "    print(\"\\n\")"
   ],
   "metadata": {
    "collapsed": false,
    "pycharm": {
     "name": "#%%\n"
    }
   }
  },
  {
   "cell_type": "code",
   "execution_count": 58,
   "outputs": [
    {
     "name": "stdout",
     "output_type": "stream",
     "text": [
      "                    1  \n",
      "\n",
      "                1  2  3  \n",
      "\n",
      "            1  2  3  4  5  \n",
      "\n",
      "        1  2  3  4  5  6  7  \n",
      "\n",
      "    1  2  3  4  5  6  7  8  9  \n",
      "\n",
      "                    1  \n",
      "\n",
      "                1  2  3  \n",
      "\n",
      "            1  2  3  4  5  \n",
      "\n",
      "        1  2  3  4  5  6  7  \n",
      "\n",
      "    1  2  3  4  5  6  7  8  9  \n",
      "\n",
      "                    1  \n",
      "\n",
      "                1  2  3  \n",
      "\n",
      "            1  2  3  4  5  \n",
      "\n",
      "        1  2  3  4  5  6  7  \n",
      "\n",
      "    1  2  3  4  5  6  7  8  9  \n",
      "\n",
      "                    1  \n",
      "\n",
      "                1  2  3  \n",
      "\n",
      "            1  2  3  4  5  \n",
      "\n",
      "        1  2  3  4  5  6  7  \n",
      "\n",
      "    1  2  3  4  5  6  7  8  9  \n",
      "\n"
     ]
    }
   ],
   "source": [
    "# 1. Decreasing space triangle\n",
    "# 2. Increasing * Triangle\n",
    "# 3. For Increasing * triangle\n",
    "\n",
    "# Eliminating 0 starting from 1\n",
    "\n",
    "n = 5\n",
    "# For no. of rows\n",
    "for i in range(n):\n",
    "    # for printing decreasing spaces\n",
    "    for j in range(i, n):\n",
    "        print(\"  \", end=\"  \")\n",
    "    # For printing increasing stars\n",
    "    for k in range(i):\n",
    "        print( k+1 , end=\"  \")\n",
    "    #for printing increasing starts\n",
    "    for l in range(i+1):\n",
    "        print( l+i+1 , end=\"  \")\n",
    "    print(\"\\n\")"
   ],
   "metadata": {
    "collapsed": false,
    "pycharm": {
     "name": "#%%\n"
    }
   }
  },
  {
   "cell_type": "code",
   "execution_count": 59,
   "outputs": [
    {
     "name": "stdout",
     "output_type": "stream",
     "text": [
      "0   0   0   0   0   0   0   0   0   \n",
      "\n",
      "    0   0   0   0   0   0   0   0   0   \n",
      "\n",
      "        0   0   0   0   0   0   0   0   0   \n",
      "\n",
      "            0   0   0   0   0   0   0   0   0   \n",
      "\n",
      "                0   0   0   0   0   0   0   0   0   \n",
      "\n",
      "0   0   0   0   0   0   0   0   0   \n",
      "\n",
      "    0   0   0   0   0   0   0   0   0   \n",
      "\n",
      "        0   0   0   0   0   0   0   0   0   \n",
      "\n",
      "            0   0   0   0   0   0   0   0   0   \n",
      "\n",
      "                0   0   0   0   0   0   0   0   0   \n",
      "\n",
      "0   0   0   0   0   0   0   0   0   \n",
      "\n",
      "    0   0   0   0   0   0   0   0   0   \n",
      "\n",
      "        0   0   0   0   0   0   0   0   0   \n",
      "\n",
      "            0   0   0   0   0   0   0   0   0   \n",
      "\n",
      "                0   0   0   0   0   0   0   0   0   \n",
      "\n",
      "0   0   0   0   0   0   0   0   0   \n",
      "\n",
      "    0   0   0   0   0   0   0   0   0   \n",
      "\n",
      "        0   0   0   0   0   0   0   0   0   \n",
      "\n",
      "            0   0   0   0   0   0   0   0   0   \n",
      "\n",
      "                0   0   0   0   0   0   0   0   0   \n",
      "\n"
     ]
    }
   ],
   "source": [
    "# Five Triangles used in this patterns.\n",
    "\n",
    "n = 5\n",
    "for i in range(n):\n",
    "    for j in range(i):\n",
    "        print(\"  \", end=\"  \")\n",
    "    for k in range(i, n):\n",
    "        print(\"0 \" , end= \"  \")\n",
    "    for l in range(i+1, n):\n",
    "        print(\"0 \" , end= \"  \")\n",
    "    for j in range(i):\n",
    "        print(\"0 \", end=\"  \")\n",
    "    for j in range(i):\n",
    "        print(\"0 \", end=\"  \")\n",
    "\n",
    "    print(\"\\n\")"
   ],
   "metadata": {
    "collapsed": false,
    "pycharm": {
     "name": "#%%\n"
    }
   }
  }
 ],
 "metadata": {
  "kernelspec": {
   "display_name": "Python 3",
   "language": "python",
   "name": "python3"
  },
  "language_info": {
   "codemirror_mode": {
    "name": "ipython",
    "version": 2
   },
   "file_extension": ".py",
   "mimetype": "text/x-python",
   "name": "python",
   "nbconvert_exporter": "python",
   "pygments_lexer": "ipython2",
   "version": "2.7.6"
  }
 },
 "nbformat": 4,
 "nbformat_minor": 0
}